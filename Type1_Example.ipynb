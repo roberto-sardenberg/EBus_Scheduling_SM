{
 "cells": [
  {
   "cell_type": "code",
   "execution_count": 1,
   "metadata": {},
   "outputs": [],
   "source": [
    "from pulp import *"
   ]
  },
  {
   "cell_type": "code",
   "execution_count": 6,
   "metadata": {},
   "outputs": [],
   "source": [
    "#Step 1: Setting data for problem\n",
    "S = [1,2,3,4,5,6,7,8,9,10,11,12,13,14,15,16,17,18,19,20]\n",
    "Cd=1.2\n",
    "Co=2\n",
    "Cr=1\n",
    "d=2\n",
    "R=100\n",
    "l=20\n",
    "k=1.5\n",
    "g=150\n",
    "emin=10\n",
    "g0=150"
   ]
  },
  {
   "cell_type": "code",
   "execution_count": 7,
   "metadata": {},
   "outputs": [
    {
     "data": {
      "text/plain": [
       "1"
      ]
     },
     "execution_count": 7,
     "metadata": {},
     "output_type": "execute_result"
    }
   ],
   "source": [
    "#Step 2: Define objective function and constraints\n",
    "\n",
    "# Define problem\n",
    "prob = LpProblem('MixedIntegerProgram',LpMinimize)\n",
    "\n",
    "# Variables\n",
    "Y = LpVariable.dicts('yVariable',S,0,1,LpBinary)          #Imposes constraint 5\n",
    "E = LpVariable.dicts('eVariable',S)                                             \n",
    "\n",
    "# Objective Function\n",
    "prob += lpSum( (Cd*d + Co + Cr*R)*val for val in Y.values() )\n",
    "\n",
    "# Constraints\n",
    "for i in S:\n",
    "    prob += (E[i]) <= g                                    #Constraint 2(modified)\n",
    "    prob += E[i] >= emin                                    #Constraint 4\n",
    "    prob += E[1] == g0                                      #Constraint 6.\n",
    "    if i != len(S):\n",
    "        prob += (E[i+1] - E[i] - (k*R - d)*Y[i] + l) == 0   #Constraint 3\n",
    "\n",
    "prob.solve()"
   ]
  },
  {
   "cell_type": "code",
   "execution_count": 8,
   "metadata": {},
   "outputs": [
    {
     "name": "stdout",
     "output_type": "stream",
     "text": [
      "Solution Status : Optimal\n",
      "----------------------------------------------\n",
      "E[1] = 150.0\n",
      "E[2] = 130.0\n",
      "E[3] = 110.0\n",
      "E[4] = 90.0\n",
      "E[5] = 70.0\n",
      "E[6] = 50.0\n",
      "E[7] = 30.0\n",
      "E[8] = 10.0\n",
      "E[9] = 138.0\n",
      "E[10] = 118.0\n",
      "E[11] = 98.0\n",
      "E[12] = 78.0\n",
      "E[13] = 58.0\n",
      "E[14] = 38.0\n",
      "E[15] = 18.0\n",
      "E[16] = 146.0\n",
      "E[17] = 126.0\n",
      "E[18] = 106.0\n",
      "E[19] = 86.0\n",
      "E[20] = 66.0\n",
      "-----------------------------------------------\n",
      "Y[1] = 0.0\n",
      "Y[2] = 0.0\n",
      "Y[3] = 0.0\n",
      "Y[4] = 0.0\n",
      "Y[5] = 0.0\n",
      "Y[6] = 0.0\n",
      "Y[7] = 0.0\n",
      "Y[8] = 1.0\n",
      "Y[9] = 0.0\n",
      "Y[10] = 0.0\n",
      "Y[11] = 0.0\n",
      "Y[12] = 0.0\n",
      "Y[13] = 0.0\n",
      "Y[14] = 0.0\n",
      "Y[15] = 1.0\n",
      "Y[16] = 0.0\n",
      "Y[17] = 0.0\n",
      "Y[18] = 0.0\n",
      "Y[19] = 0.0\n",
      "Y[20] = 0.0\n"
     ]
    }
   ],
   "source": [
    "#Step 3: Check Optimal Solution\n",
    "\n",
    "print('Solution Status : {}'.format(LpStatus[prob.status]))\n",
    "print('----------------------------------------------')\n",
    "for i in S:\n",
    "    optimal_value = E[i].varValue\n",
    "    print('E[{}] = {}'.format(i,optimal_value))\n",
    "print('-----------------------------------------------')\n",
    "for i in S:\n",
    "    optimal_value = Y[i].varValue\n",
    "    print('Y[{}] = {}'.format(i,optimal_value))"
   ]
  },
  {
   "cell_type": "code",
   "execution_count": 11,
   "metadata": {},
   "outputs": [
    {
     "name": "stdout",
     "output_type": "stream",
     "text": [
      "Operating cost ($/day) =  208.8\n"
     ]
    }
   ],
   "source": [
    "print(\"Operating cost ($/day) = \", value(prob.objective))"
   ]
  },
  {
   "cell_type": "code",
   "execution_count": null,
   "metadata": {},
   "outputs": [],
   "source": []
  }
 ],
 "metadata": {
  "kernelspec": {
   "display_name": "Python 3",
   "language": "python",
   "name": "python3"
  },
  "language_info": {
   "codemirror_mode": {
    "name": "ipython",
    "version": 3
   },
   "file_extension": ".py",
   "mimetype": "text/x-python",
   "name": "python",
   "nbconvert_exporter": "python",
   "pygments_lexer": "ipython3",
   "version": "3.7.3"
  }
 },
 "nbformat": 4,
 "nbformat_minor": 2
}
